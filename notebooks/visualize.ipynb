{
 "cells": [
  {
   "cell_type": "markdown",
   "id": "08843315-3609-4c67-b1f3-29922d30ed85",
   "metadata": {},
   "source": [
    "## Visualize outputs\n"
   ]
  },
  {
   "cell_type": "code",
   "execution_count": null,
   "id": "6b78081b-5e2f-4dea-96d7-f804faf93e17",
   "metadata": {},
   "outputs": [],
   "source": [
    "#!pip install pytorch-fid"
   ]
  },
  {
   "cell_type": "code",
   "execution_count": null,
   "id": "5a2f59d4-2cfb-4a40-9562-3d54f5c87d66",
   "metadata": {},
   "outputs": [],
   "source": [
    "%load_ext autoreload\n",
    "%autoreload 2"
   ]
  },
  {
   "cell_type": "code",
   "execution_count": null,
   "id": "a6c27a4a-2cd5-4e55-ac51-848259cb2d6b",
   "metadata": {},
   "outputs": [],
   "source": [
    "import os,sys,inspect, random\n",
    "sys.path.insert(0,\"..\")\n",
    "\n",
    "import matplotlib.pyplot as plt\n",
    "from matplotlib import rc\n",
    "#rc('font',**{'family':'sans-serif','sans-serif':['Computer Modern Roman']})\n",
    "#rc('text', usetex=True)\n",
    "\n",
    "import matplotlib.colors\n",
    "import cv2\n",
    "import numpy as np"
   ]
  },
  {
   "cell_type": "code",
   "execution_count": null,
   "id": "0bdce517-31de-477f-8708-ce4f6e61876d",
   "metadata": {},
   "outputs": [],
   "source": [
    "def visualize(idx, **images):\n",
    "    \"\"\"Plot images in one row.\"\"\"\n",
    "    \n",
    "    #norm=plt.Normalize(0,4) # 5 classes including BG\n",
    "    #map_name = matplotlib.colors.LinearSegmentedColormap.from_list(\"\", [\"black\", \"red\",\"yellow\",\"blue\", \"green\"])\n",
    "    \n",
    "    n = len(images)\n",
    "    plt.figure(figsize=(10, 8))\n",
    "    for i, (name, image) in enumerate(images.items()):\n",
    "        plt.subplot(1, n, i + 1)\n",
    "        plt.xticks([])\n",
    "        plt.yticks([])\n",
    "        #plt.title(' '.join(name.split('_')).title())\n",
    "        plt.imshow(image)\n",
    "        \n",
    "    plt.savefig(\"../outs/compare/{}.png\".format(idx), facecolor=\"white\", bbox_inches = 'tight', dpi=600)\n",
    "    #plt.show()\n",
    "    \n",
    "    \n",
    "def make_dataset(dir):\n",
    "    images = []\n",
    "    assert os.path.isdir(dir), '%s is not a valid directory' % dir\n",
    "\n",
    "    f = dir.split('/')[-1].split('_')[-1]\n",
    "    #print (dir, f)\n",
    "    dirs= os.listdir(dir)\n",
    "    for img in dirs:\n",
    "\n",
    "        path = os.path.join(dir, img)\n",
    "        #print(path)\n",
    "        images.append(path)\n",
    "    return images\n",
    "\n",
    "def read_image(path):\n",
    "    image = cv2.imread(path)\n",
    "    image = cv2.cvtColor(image, cv2.COLOR_BGR2RGB)\n",
    "    #image = np.where(image==0.0, 255, image)\n",
    "    return image"
   ]
  },
  {
   "cell_type": "code",
   "execution_count": null,
   "id": "80e6b50d-f2ef-4ec4-9821-50229b7dacaf",
   "metadata": {},
   "outputs": [],
   "source": [
    "os.makedirs('../outs/compare',exist_ok=True)"
   ]
  },
  {
   "cell_type": "code",
   "execution_count": null,
   "id": "e5086de8-e9f5-4774-b719-bc8e240e52b4",
   "metadata": {},
   "outputs": [],
   "source": [
    "# Path to model\n",
    "#algo1 = \"acgpn_5000\"\n",
    "#algo2 = \"resunet_g1\"\n",
    "\n",
    "# path to tryons\n",
    "\n",
    "# Same\n",
    "# cloth = \"../results/aligned/TFM/test_pairs/cloth\"\n",
    "# person = \"../results/aligned/TFM/test_pairs/person\"\n",
    "# tryon1 = \"../results/aligned_unet/TFM/test_pairs/tryon\"\n",
    "# tryon2 = \"../results/aligned/TFM/test_pairs/tryon\"\n",
    "\n",
    "# Random\n",
    "cloth = \"../results/random/aligned/TFM/test_pairs/cloth\"\n",
    "person = \"../results/random/aligned/TFM/test_pairs/person\"\n",
    "tryon1 = \"../results/random/aligned_unet/TFM/test_pairs/tryon\"\n",
    "tryon2 = \"../results/random/aligned/TFM/test_pairs/tryon\"\n",
    "\n",
    "#algo1_path = \"../tryons_random/\" + algo1 + \"/\" + mode\n",
    "#algo2_path = \"../tryons_random/\" + algo2 + \"/\" + mode"
   ]
  },
  {
   "cell_type": "code",
   "execution_count": null,
   "id": "de04c7a4-dfa8-4821-a293-e97bfd1abe59",
   "metadata": {},
   "outputs": [],
   "source": [
    "cloths = sorted(make_dataset(cloth))\n",
    "persons = sorted(make_dataset(person))\n",
    "tryon1p = sorted(make_dataset(tryon1))\n",
    "tryon2p = sorted(make_dataset(tryon2))"
   ]
  },
  {
   "cell_type": "code",
   "execution_count": null,
   "id": "bdace0ad-1449-48f2-84dd-00b1c9c1cf6c",
   "metadata": {},
   "outputs": [],
   "source": [
    "len(tryon2p)"
   ]
  },
  {
   "cell_type": "markdown",
   "id": "59796524-a8bd-4c9d-b855-cf4a1f0d654b",
   "metadata": {},
   "source": [
    "### Visualize different algo output"
   ]
  },
  {
   "cell_type": "code",
   "execution_count": null,
   "id": "9e188a79-e028-42c3-9f1a-387ff13e0705",
   "metadata": {},
   "outputs": [],
   "source": [
    "# slc = 934\n",
    "# i = 0\n",
    "# for c, p, a1, a2 in zip(cloths[:slc], persons[:slc], tryon1p[:slc], \n",
    "#                      tryon2p[:slc]):\n",
    "    \n",
    "#     # visualize(i,\n",
    "#     #           unet=read_image(a1), \n",
    "#     #           resunet = read_image(a2))\n",
    "#     visualize(i, \n",
    "#               person=read_image(p),\n",
    "#               cloth=read_image(c),\n",
    "#               unet=read_image(a1), \n",
    "#               resunet = read_image(a2))\n",
    "#     i+=1"
   ]
  },
  {
   "cell_type": "code",
   "execution_count": null,
   "id": "27496f08-b9a9-472b-8545-371e798e1e14",
   "metadata": {},
   "outputs": [],
   "source": []
  },
  {
   "cell_type": "code",
   "execution_count": null,
   "id": "48e507f0-8321-42dc-8bdb-97ebd313b43b",
   "metadata": {},
   "outputs": [],
   "source": [
    "# nums = np.array([4,5,22,45,87,123,10,52,95,\n",
    "#                  99,323,586,149,188,787,806,829,323,929,325,241,193,276,294,306])\n",
    "\n",
    "# nums = nums[:12]\n",
    "\n",
    "nums = [4,5,22,45,87,123,10,52,95,\n",
    "                 99,323,586,149,188,787,806,829,325,241,306,276,294]\n",
    "\n",
    "nums = [123, 829, 10, 99, 276, 95, 52, 294] #random.sample(nums, 8)\n",
    "\n",
    "rows = int(len(nums) / 2)\n",
    "cols = 8\n",
    "fig, axarr = plt.subplots(rows, cols, figsize=(22, 18), constrained_layout=True)\n",
    "\n",
    "v = 0\n",
    "for r in range(rows):\n",
    "    rp1=read_image(persons[nums[v+r]])\n",
    "    tc1=read_image(cloths[nums[v+r]])\n",
    "    a1=read_image(tryon1p[nums[v+r]])\n",
    "    o1=read_image(tryon2p[nums[v+r]])\n",
    "    \n",
    "    rp2=read_image(persons[nums[v+r+1]])\n",
    "    tc2=read_image(cloths[nums[v+r+1]])\n",
    "    a2=read_image(tryon1p[nums[v+r+1]])\n",
    "    o2=read_image(tryon2p[nums[v+r+1]])\n",
    "    \n",
    "    # rp3=read_image(persons[nums[v+r+2]])\n",
    "    # tc3=read_image(cloths[nums[v+r+2]])\n",
    "    # a3=read_image(tryon1p[nums[v+r+2]])\n",
    "    # o3=read_image(tryon2p[nums[v+r+2]])\n",
    "    \n",
    "    v+=1\n",
    "    #images = [rp1, tc1, a1, o1, rp2, tc2, a2, o2, rp3, tc3, a3, o3]\n",
    "    images = [rp1, tc1, a1, o1, rp2, tc2, a2, o2]\n",
    "    \n",
    "    captions = [\"Reference \\n Person\", \"Target \\n Clothes\", \"M3D-VTON\", \"Ours\", \n",
    "                \"Reference \\n Person\", \"Target \\n Clothes\", \"M3D-VTON\", \"Ours\", \n",
    "                \"Reference \\n Person\", \"Target \\n Clothes\", \"M3D-VTON\", \"Ours\"]\n",
    "    \n",
    "    for c in range(cols):\n",
    "        axarr[r, c].imshow(images[c], cmap='gray')\n",
    "        axarr[r, c].axis(\"off\")\n",
    "        axarr[r, c].set_aspect('equal')\n",
    "        if r==0:\n",
    "            axarr[r, c].set_title(captions[c], fontsize=25)\n",
    "\n",
    "plt.savefig(\"../outs/visualization_tryons_small.pdf\", facecolor=\"white\", bbox_inches = 'tight', dpi=100)"
   ]
  },
  {
   "cell_type": "code",
   "execution_count": null,
   "id": "c82d6467-e9fb-4b34-bde1-e0d8e9e31fb1",
   "metadata": {},
   "outputs": [],
   "source": [
    "nums"
   ]
  },
  {
   "cell_type": "code",
   "execution_count": null,
   "id": "405f3e71-f261-4023-9cf3-fd9e585f940d",
   "metadata": {},
   "outputs": [],
   "source": []
  },
  {
   "cell_type": "code",
   "execution_count": null,
   "id": "38ee61b1-4036-4d60-83ec-9e360890d996",
   "metadata": {},
   "outputs": [],
   "source": [
    "len(nums)"
   ]
  },
  {
   "cell_type": "markdown",
   "id": "bdf6c556-f740-4859-bf20-1acd564c7a1f",
   "metadata": {},
   "source": [
    "### All"
   ]
  },
  {
   "cell_type": "code",
   "execution_count": null,
   "id": "a48fb411-a2ed-402b-a65b-019ddaf48346",
   "metadata": {},
   "outputs": [],
   "source": [
    "nums = np.array([4,5,22,45,87,123,10,52,95,\n",
    "                 99,323,586,149,188,787,806,829,193,929,325,241,306,276,294])\n",
    "\n",
    "nums = np.array([4,5,22,45,87,123,10,52,95,\n",
    "                 99,323,149,188,787,806,829,325,241,306,276,294])\n",
    "\n",
    "rows = int(7)\n",
    "cols = 12\n",
    "fig, axarr = plt.subplots(rows, cols, figsize=(33, 31), constrained_layout=True)\n",
    "\n",
    "v = 0\n",
    "for r in range(rows):\n",
    "    rp1=read_image(persons[nums[v+r]])\n",
    "    tc1=read_image(cloths[nums[v+r]])\n",
    "    a1=read_image(tryon1p[nums[v+r]])\n",
    "    o1=read_image(tryon2p[nums[v+r]])\n",
    "    \n",
    "    rp2=read_image(persons[nums[v+r+1]])\n",
    "    tc2=read_image(cloths[nums[v+r+1]])\n",
    "    a2=read_image(tryon1p[nums[v+r+1]])\n",
    "    o2=read_image(tryon2p[nums[v+r+1]])\n",
    "    \n",
    "    rp3=read_image(persons[nums[v+r+2]])\n",
    "    tc3=read_image(cloths[nums[v+r+2]])\n",
    "    a3=read_image(tryon1p[nums[v+r+2]])\n",
    "    o3=read_image(tryon2p[nums[v+r+2]])\n",
    "    \n",
    "    v+=2\n",
    "    images = [rp1, tc1, a1, o1, rp2, tc2, a2, o2, rp3, tc3, a3, o3]\n",
    "    \n",
    "    captions = [\"Reference \\n Person\", \"Target \\n Clothes\", \"M3D-VTON\", \"Ours\", \n",
    "                \"Reference \\n Person\", \"Target \\n Clothes\", \"M3D-VTON\", \"Ours\", \n",
    "                \"Reference \\n Person\", \"Target \\n Clothes\", \"M3D-VTON\", \"Ours\"]\n",
    "    \n",
    "    for c in range(cols):\n",
    "        axarr[r, c].imshow(images[c], cmap='gray')\n",
    "        axarr[r, c].axis(\"off\")\n",
    "        axarr[r, c].set_aspect('equal')\n",
    "        if r==0:\n",
    "            axarr[r, c].set_title(captions[c], fontsize=35)\n",
    "\n",
    "plt.savefig(\"../outs/visualization_tryons_all.pdf\", facecolor=\"white\", bbox_inches = 'tight', dpi=100)"
   ]
  },
  {
   "cell_type": "code",
   "execution_count": null,
   "id": "66845b1a-22b5-4903-a95b-46597abeeece",
   "metadata": {},
   "outputs": [],
   "source": []
  },
  {
   "cell_type": "code",
   "execution_count": null,
   "id": "7e0af8c6-c032-4d11-a273-0559d507d7bc",
   "metadata": {},
   "outputs": [],
   "source": []
  },
  {
   "cell_type": "code",
   "execution_count": null,
   "id": "f74745f5-61fe-4cfd-806f-df5f1229abca",
   "metadata": {},
   "outputs": [],
   "source": []
  },
  {
   "cell_type": "code",
   "execution_count": null,
   "id": "916e8053-c716-4195-9a68-8d4a7f1ec125",
   "metadata": {},
   "outputs": [],
   "source": []
  },
  {
   "cell_type": "code",
   "execution_count": null,
   "id": "741a42d7-277f-4fdb-99aa-588fb9741d23",
   "metadata": {},
   "outputs": [],
   "source": []
  },
  {
   "cell_type": "code",
   "execution_count": null,
   "id": "2e003563-1ec7-4a42-8788-aeedec42cca4",
   "metadata": {},
   "outputs": [],
   "source": []
  },
  {
   "cell_type": "code",
   "execution_count": null,
   "id": "a7355e3f-91c6-4efc-99cf-a553482dec57",
   "metadata": {},
   "outputs": [],
   "source": []
  },
  {
   "cell_type": "code",
   "execution_count": null,
   "id": "a2cd5b56-bdc7-4769-a96c-ced26750c79e",
   "metadata": {},
   "outputs": [],
   "source": []
  },
  {
   "cell_type": "markdown",
   "id": "257cdf7c-d159-4747-b894-8f08391c309f",
   "metadata": {},
   "source": [
    "### Compute FID scores"
   ]
  },
  {
   "cell_type": "code",
   "execution_count": null,
   "id": "33fefe86-0f54-43e6-8722-298f66e9bb8b",
   "metadata": {},
   "outputs": [],
   "source": [
    "!python -m pytorch_fid \"/home/hz/m3d-vton/results/aligned_unet/TFM/test_pairs/person/\" \"/home/hz/m3d-vton/results/aligned_unet/TFM/test_pairs/person/\""
   ]
  },
  {
   "cell_type": "code",
   "execution_count": null,
   "id": "398e9ac6-fb07-4d1a-9927-e34e715dd567",
   "metadata": {},
   "outputs": [],
   "source": [
    "!python -m pytorch_fid \"/home/hz/m3d-vton/results/aligned_unet/TFM/test_pairs/person/\" \"/home/hz/m3d-vton/results/aligned_unet/TFM/test_pairs/tryon\""
   ]
  },
  {
   "cell_type": "code",
   "execution_count": null,
   "id": "0f6abac2-9062-42ef-ba0a-f3c70c5be93a",
   "metadata": {},
   "outputs": [],
   "source": [
    "!python -m pytorch_fid \"/home/hz/m3d-vton/results/aligned_unet/TFM/test_pairs/person/\" \"/home/hz/m3d-vton/results/aligned/TFM/test_pairs/tryon\""
   ]
  },
  {
   "cell_type": "code",
   "execution_count": null,
   "id": "fb636b7e-6c32-4109-9fa9-c88ea364bc2d",
   "metadata": {},
   "outputs": [],
   "source": []
  },
  {
   "cell_type": "code",
   "execution_count": null,
   "id": "f1a4e9f6-8b10-45cc-976f-c111ecf4ed5f",
   "metadata": {},
   "outputs": [],
   "source": []
  }
 ],
 "metadata": {
  "kernelspec": {
   "display_name": "Python 3 (ipykernel)",
   "language": "python",
   "name": "python3"
  },
  "language_info": {
   "codemirror_mode": {
    "name": "ipython",
    "version": 3
   },
   "file_extension": ".py",
   "mimetype": "text/x-python",
   "name": "python",
   "nbconvert_exporter": "python",
   "pygments_lexer": "ipython3",
   "version": "3.8.12"
  }
 },
 "nbformat": 4,
 "nbformat_minor": 5
}
