{
 "cells": [
  {
   "cell_type": "markdown",
   "id": "08843315-3609-4c67-b1f3-29922d30ed85",
   "metadata": {},
   "source": [
    "## Visualize outputs\n"
   ]
  },
  {
   "cell_type": "code",
   "execution_count": 2,
   "id": "6b78081b-5e2f-4dea-96d7-f804faf93e17",
   "metadata": {},
   "outputs": [],
   "source": [
    "#!pip install pytorch-fid"
   ]
  },
  {
   "cell_type": "code",
   "execution_count": null,
   "id": "5a2f59d4-2cfb-4a40-9562-3d54f5c87d66",
   "metadata": {},
   "outputs": [],
   "source": [
    "%load_ext autoreload\n",
    "%autoreload 2"
   ]
  },
  {
   "cell_type": "code",
   "execution_count": null,
   "id": "a6c27a4a-2cd5-4e55-ac51-848259cb2d6b",
   "metadata": {},
   "outputs": [],
   "source": [
    "import os,sys,inspect\n",
    "sys.path.insert(0,\"..\")\n",
    "\n",
    "import matplotlib.pyplot as plt\n",
    "\n",
    "#csfont = {'fontname':'Times New Roman'}\n",
    "#plt.rcParams['font.family'] = 'serif'\n",
    "#plt.rcParams['font.serif'] = ['Times New Roman'] + plt.rcParams['font.serif']\n",
    "#plt.matplotlib.rcParams.update({'font.size': 20})\n",
    "\n",
    "import matplotlib.colors\n",
    "import cv2\n",
    "import numpy as np"
   ]
  },
  {
   "cell_type": "code",
   "execution_count": null,
   "id": "0bdce517-31de-477f-8708-ce4f6e61876d",
   "metadata": {},
   "outputs": [],
   "source": [
    "def visualize(idx, **images):\n",
    "    \"\"\"Plot images in one row.\"\"\"\n",
    "    \n",
    "    #norm=plt.Normalize(0,4) # 5 classes including BG\n",
    "    #map_name = matplotlib.colors.LinearSegmentedColormap.from_list(\"\", [\"black\", \"red\",\"yellow\",\"blue\", \"green\"])\n",
    "    \n",
    "    n = len(images)\n",
    "    plt.figure(figsize=(10, 8))\n",
    "    for i, (name, image) in enumerate(images.items()):\n",
    "        plt.subplot(1, n, i + 1)\n",
    "        plt.xticks([])\n",
    "        plt.yticks([])\n",
    "        #plt.title(' '.join(name.split('_')).title())\n",
    "        plt.imshow(image)\n",
    "        \n",
    "    plt.savefig(\"../outs/compare/{}.png\".format(idx), facecolor=\"white\", bbox_inches = 'tight', dpi=600)\n",
    "    #plt.show()\n",
    "    \n",
    "    \n",
    "def make_dataset(dir):\n",
    "    images = []\n",
    "    assert os.path.isdir(dir), '%s is not a valid directory' % dir\n",
    "\n",
    "    f = dir.split('/')[-1].split('_')[-1]\n",
    "    #print (dir, f)\n",
    "    dirs= os.listdir(dir)\n",
    "    for img in dirs:\n",
    "\n",
    "        path = os.path.join(dir, img)\n",
    "        #print(path)\n",
    "        images.append(path)\n",
    "    return images\n",
    "\n",
    "def read_image(path):\n",
    "    image = cv2.imread(path)\n",
    "    image = cv2.cvtColor(image, cv2.COLOR_BGR2RGB)\n",
    "    #image = np.where(image==0.0, 255, image)\n",
    "    return image"
   ]
  },
  {
   "cell_type": "code",
   "execution_count": null,
   "id": "80e6b50d-f2ef-4ec4-9821-50229b7dacaf",
   "metadata": {},
   "outputs": [],
   "source": [
    "os.makedirs('../outs/compare',exist_ok=True)"
   ]
  },
  {
   "cell_type": "code",
   "execution_count": null,
   "id": "e5086de8-e9f5-4774-b719-bc8e240e52b4",
   "metadata": {},
   "outputs": [],
   "source": [
    "# Path to model\n",
    "#algo1 = \"acgpn_5000\"\n",
    "#algo2 = \"resunet_g1\"\n",
    "\n",
    "# path to tryons\n",
    "\n",
    "cloth = \"../results/aligned/TFM/test_pairs/cloth\"\n",
    "person = \"../results/aligned/TFM/test_pairs/person\"\n",
    "tryon1 = \"../results/aligned_unet/TFM/test_pairs/tryon\"\n",
    "tryon2 = \"../results/aligned/TFM/test_pairs/tryon\"\n",
    "#mode = \"all\"\n",
    "\n",
    "#algo1_path = \"../tryons_random/\" + algo1 + \"/\" + mode\n",
    "#algo2_path = \"../tryons_random/\" + algo2 + \"/\" + mode"
   ]
  },
  {
   "cell_type": "code",
   "execution_count": null,
   "id": "de04c7a4-dfa8-4821-a293-e97bfd1abe59",
   "metadata": {},
   "outputs": [],
   "source": [
    "cloths = sorted(make_dataset(cloth))\n",
    "persons = sorted(make_dataset(person))\n",
    "tryon1p = sorted(make_dataset(tryon1))\n",
    "tryon2p = sorted(make_dataset(tryon2))"
   ]
  },
  {
   "cell_type": "code",
   "execution_count": null,
   "id": "bdace0ad-1449-48f2-84dd-00b1c9c1cf6c",
   "metadata": {},
   "outputs": [],
   "source": [
    "len(tryon2p)"
   ]
  },
  {
   "cell_type": "code",
   "execution_count": null,
   "id": "9e188a79-e028-42c3-9f1a-387ff13e0705",
   "metadata": {},
   "outputs": [],
   "source": [
    "slc = 934\n",
    "i = 0\n",
    "for c, p, a1, a2 in zip(cloths[:slc], persons[:slc], tryon1p[:slc], \n",
    "                     tryon2p[:slc]):\n",
    "    \n",
    "    # visualize(i,\n",
    "    #           unet=read_image(a1), \n",
    "    #           resunet = read_image(a2))\n",
    "    visualize(i, \n",
    "              person=read_image(p),\n",
    "              cloth=read_image(c),\n",
    "              unet=read_image(a1), \n",
    "              resunet = read_image(a2))\n",
    "    i+=1"
   ]
  },
  {
   "cell_type": "code",
   "execution_count": null,
   "id": "3752aa69-8879-43af-a97a-6485a14e1f79",
   "metadata": {},
   "outputs": [],
   "source": []
  },
  {
   "cell_type": "code",
   "execution_count": null,
   "id": "a2cd5b56-bdc7-4769-a96c-ced26750c79e",
   "metadata": {},
   "outputs": [],
   "source": []
  },
  {
   "cell_type": "code",
   "execution_count": null,
   "id": "2281b5d9-f9de-4608-9664-46baa2ced3ff",
   "metadata": {},
   "outputs": [],
   "source": []
  },
  {
   "cell_type": "code",
   "execution_count": null,
   "id": "47504032-4fec-4529-a5e8-68ca8882bed2",
   "metadata": {},
   "outputs": [],
   "source": []
  },
  {
   "cell_type": "code",
   "execution_count": 4,
   "id": "33fefe86-0f54-43e6-8722-298f66e9bb8b",
   "metadata": {},
   "outputs": [
    {
     "name": "stdout",
     "output_type": "stream",
     "text": [
      "100%|███████████████████████████████████████████| 19/19 [00:02<00:00,  7.22it/s]\n",
      "100%|███████████████████████████████████████████| 19/19 [00:02<00:00,  8.61it/s]\n",
      "FID:  -2.020402860125614e-05\n"
     ]
    }
   ],
   "source": [
    "!python -m pytorch_fid \"/home/hz/m3d-vton/results/aligned_unet/TFM/test_pairs/person/\" \"/home/hz/m3d-vton/results/aligned_unet/TFM/test_pairs/person/\""
   ]
  },
  {
   "cell_type": "code",
   "execution_count": 5,
   "id": "398e9ac6-fb07-4d1a-9927-e34e715dd567",
   "metadata": {},
   "outputs": [
    {
     "name": "stdout",
     "output_type": "stream",
     "text": [
      "100%|███████████████████████████████████████████| 19/19 [00:02<00:00,  7.10it/s]\n",
      "100%|███████████████████████████████████████████| 19/19 [00:02<00:00,  8.57it/s]\n",
      "FID:  19.875877419374007\n"
     ]
    }
   ],
   "source": [
    "!python -m pytorch_fid \"/home/hz/m3d-vton/results/aligned_unet/TFM/test_pairs/person/\" \"/home/hz/m3d-vton/results/aligned_unet/TFM/test_pairs/tryon\""
   ]
  },
  {
   "cell_type": "code",
   "execution_count": 6,
   "id": "0f6abac2-9062-42ef-ba0a-f3c70c5be93a",
   "metadata": {},
   "outputs": [
    {
     "name": "stdout",
     "output_type": "stream",
     "text": [
      "100%|███████████████████████████████████████████| 19/19 [00:02<00:00,  7.07it/s]\n",
      "100%|███████████████████████████████████████████| 19/19 [00:02<00:00,  8.67it/s]\n",
      "FID:  19.239424350453078\n"
     ]
    }
   ],
   "source": [
    "!python -m pytorch_fid \"/home/hz/m3d-vton/results/aligned_unet/TFM/test_pairs/person/\" \"/home/hz/m3d-vton/results/aligned/TFM/test_pairs/tryon\""
   ]
  },
  {
   "cell_type": "code",
   "execution_count": null,
   "id": "fb636b7e-6c32-4109-9fa9-c88ea364bc2d",
   "metadata": {},
   "outputs": [],
   "source": []
  }
 ],
 "metadata": {
  "kernelspec": {
   "display_name": "Python 3 (ipykernel)",
   "language": "python",
   "name": "python3"
  },
  "language_info": {
   "codemirror_mode": {
    "name": "ipython",
    "version": 3
   },
   "file_extension": ".py",
   "mimetype": "text/x-python",
   "name": "python",
   "nbconvert_exporter": "python",
   "pygments_lexer": "ipython3",
   "version": "3.8.12"
  }
 },
 "nbformat": 4,
 "nbformat_minor": 5
}
